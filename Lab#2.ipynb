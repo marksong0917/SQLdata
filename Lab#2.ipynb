{
 "cells": [
  {
   "cell_type": "code",
   "execution_count": 19,
   "metadata": {},
   "outputs": [
    {
     "name": "stdout",
     "output_type": "stream",
     "text": [
      "The sql extension is already loaded. To reload it, use:\n",
      "  %reload_ext sql\n"
     ]
    }
   ],
   "source": [
    "#start up and use sql \n",
    "%load_ext sql"
   ]
  },
  {
   "cell_type": "code",
   "execution_count": 20,
   "metadata": {},
   "outputs": [],
   "source": [
    "#commence coding\n",
    "%sql sqlite:// "
   ]
  },
  {
   "cell_type": "code",
   "execution_count": 33,
   "metadata": {},
   "outputs": [
    {
     "name": "stdout",
     "output_type": "stream",
     "text": [
      " * sqlite://\n",
      "(sqlite3.OperationalError) table STUDENT already exists\n",
      "[SQL: CREATE TABLE STUDENT(firstname varchar(50),lastname varchar(50),StudentID);]\n",
      "(Background on this error at: http://sqlalche.me/e/13/e3q8)\n",
      " * sqlite://\n",
      "1 rows affected.\n",
      " * sqlite://\n",
      "1 rows affected.\n",
      " * sqlite://\n",
      "1 rows affected.\n",
      " * sqlite://\n",
      "1 rows affected.\n",
      " * sqlite://\n",
      "1 rows affected.\n",
      " * sqlite://\n",
      "1 rows affected.\n",
      " * sqlite://\n",
      "1 rows affected.\n",
      " * sqlite://\n",
      "1 rows affected.\n",
      " * sqlite://\n",
      "1 rows affected.\n",
      " * sqlite://\n",
      "1 rows affected.\n",
      " * sqlite://\n",
      "1 rows affected.\n"
     ]
    },
    {
     "data": {
      "text/plain": [
       "[]"
      ]
     },
     "execution_count": 33,
     "metadata": {},
     "output_type": "execute_result"
    }
   ],
   "source": [
    "#create student table and inserting values\n",
    "\n",
    "%sql CREATE TABLE STUDENT(firstname varchar(50),lastname varchar(50),StudentID); \n",
    "%sql INSERT INTO STUDENT VALUES('Tim', 'Ellison', '01'); \n",
    "%sql INSERT INTO STUDENT VALUES('Ahsan', 'Mustafa', '02'); \n",
    "%sql INSERT INTO STUDENT VALUES('Hadiya', 'Bradshaw', '03'); \n",
    "%sql INSERT INTO STUDENT VALUES('Kody', 'Mccall', '04'); \n",
    "%sql INSERT INTO STUDENT VALUES('Sheikh', 'Faulkner', '05'); \n",
    "%sql INSERT INTO STUDENT VALUES('Domonic', 'Edwards', '06'); \n",
    "%sql INSERT INTO STUDENT VALUES('Yasemin', 'Hussain', '07'); \n",
    "%sql INSERT INTO STUDENT VALUES('Usmaan', 'Ridley', '08'); \n",
    "%sql INSERT INTO STUDENT VALUES('Kerys', 'Maynard', '09'); \n",
    "%sql INSERT INTO STUDENT VALUES('Geoffrey', 'Fountain', '10'); \n",
    "%sql INSERT INTO STUDENT VALUES('Ioan', 'Byers', '11'); "
   ]
  },
  {
   "cell_type": "code",
   "execution_count": 34,
   "metadata": {
    "scrolled": true
   },
   "outputs": [
    {
     "name": "stdout",
     "output_type": "stream",
     "text": [
      " * sqlite://\n",
      "Done.\n"
     ]
    },
    {
     "data": {
      "text/html": [
       "<table>\n",
       "    <tr>\n",
       "        <th>firstname</th>\n",
       "        <th>lastname</th>\n",
       "        <th>StudentID</th>\n",
       "    </tr>\n",
       "    <tr>\n",
       "        <td>Tim</td>\n",
       "        <td>Ellison</td>\n",
       "        <td>01</td>\n",
       "    </tr>\n",
       "    <tr>\n",
       "        <td>Tim</td>\n",
       "        <td>Ellison</td>\n",
       "        <td>01</td>\n",
       "    </tr>\n",
       "    <tr>\n",
       "        <td>Ahsan</td>\n",
       "        <td>Mustafa</td>\n",
       "        <td>02</td>\n",
       "    </tr>\n",
       "    <tr>\n",
       "        <td>Hadiya</td>\n",
       "        <td>Bradshaw</td>\n",
       "        <td>03</td>\n",
       "    </tr>\n",
       "    <tr>\n",
       "        <td>Kody</td>\n",
       "        <td>Mccall</td>\n",
       "        <td>04</td>\n",
       "    </tr>\n",
       "    <tr>\n",
       "        <td>Sheikh</td>\n",
       "        <td>Faulkner</td>\n",
       "        <td>05</td>\n",
       "    </tr>\n",
       "    <tr>\n",
       "        <td>Domonic</td>\n",
       "        <td>Edwards</td>\n",
       "        <td>06</td>\n",
       "    </tr>\n",
       "    <tr>\n",
       "        <td>Yasemin</td>\n",
       "        <td>Hussain</td>\n",
       "        <td>07</td>\n",
       "    </tr>\n",
       "    <tr>\n",
       "        <td>Usmaan</td>\n",
       "        <td>Ridley</td>\n",
       "        <td>08</td>\n",
       "    </tr>\n",
       "    <tr>\n",
       "        <td>Kerys</td>\n",
       "        <td>Maynard</td>\n",
       "        <td>09</td>\n",
       "    </tr>\n",
       "    <tr>\n",
       "        <td>Geoffrey</td>\n",
       "        <td>Fountain</td>\n",
       "        <td>10</td>\n",
       "    </tr>\n",
       "    <tr>\n",
       "        <td>Ioan</td>\n",
       "        <td>Byers</td>\n",
       "        <td>11</td>\n",
       "    </tr>\n",
       "</table>"
      ],
      "text/plain": [
       "[('Tim', 'Ellison', '01'),\n",
       " ('Tim', 'Ellison', '01'),\n",
       " ('Ahsan', 'Mustafa', '02'),\n",
       " ('Hadiya', 'Bradshaw', '03'),\n",
       " ('Kody', 'Mccall', '04'),\n",
       " ('Sheikh', 'Faulkner', '05'),\n",
       " ('Domonic', 'Edwards', '06'),\n",
       " ('Yasemin', 'Hussain', '07'),\n",
       " ('Usmaan', 'Ridley', '08'),\n",
       " ('Kerys', 'Maynard', '09'),\n",
       " ('Geoffrey', 'Fountain', '10'),\n",
       " ('Ioan', 'Byers', '11')]"
      ]
     },
     "execution_count": 34,
     "metadata": {},
     "output_type": "execute_result"
    }
   ],
   "source": [
    "#listing everything from table student\n",
    "%sql SELECT * from STUDENT;"
   ]
  },
  {
   "cell_type": "code",
   "execution_count": 40,
   "metadata": {},
   "outputs": [
    {
     "name": "stdout",
     "output_type": "stream",
     "text": [
      " * sqlite://\n",
      "1 rows affected.\n"
     ]
    },
    {
     "data": {
      "text/plain": [
       "[]"
      ]
     },
     "execution_count": 40,
     "metadata": {},
     "output_type": "execute_result"
    }
   ],
   "source": [
    "#deleteing one entry from table student where first name is loan \n",
    "%sql DELETE from STUDENT WHERE firstname = 'Kody'; "
   ]
  },
  {
   "cell_type": "code",
   "execution_count": 41,
   "metadata": {},
   "outputs": [
    {
     "name": "stdout",
     "output_type": "stream",
     "text": [
      " * sqlite://\n",
      "Done.\n"
     ]
    },
    {
     "data": {
      "text/html": [
       "<table>\n",
       "    <tr>\n",
       "        <th>firstname</th>\n",
       "        <th>lastname</th>\n",
       "        <th>StudentID</th>\n",
       "    </tr>\n",
       "    <tr>\n",
       "        <td>Tim</td>\n",
       "        <td>Ellison</td>\n",
       "        <td>01</td>\n",
       "    </tr>\n",
       "    <tr>\n",
       "        <td>Tim</td>\n",
       "        <td>Ellison</td>\n",
       "        <td>01</td>\n",
       "    </tr>\n",
       "    <tr>\n",
       "        <td>Ahsan</td>\n",
       "        <td>Mustafa</td>\n",
       "        <td>02</td>\n",
       "    </tr>\n",
       "    <tr>\n",
       "        <td>Hadiya</td>\n",
       "        <td>Bradshaw</td>\n",
       "        <td>03</td>\n",
       "    </tr>\n",
       "    <tr>\n",
       "        <td>Sheikh</td>\n",
       "        <td>Faulkner</td>\n",
       "        <td>05</td>\n",
       "    </tr>\n",
       "    <tr>\n",
       "        <td>Domonic</td>\n",
       "        <td>Edwards</td>\n",
       "        <td>06</td>\n",
       "    </tr>\n",
       "    <tr>\n",
       "        <td>Yasemin</td>\n",
       "        <td>Hussain</td>\n",
       "        <td>07</td>\n",
       "    </tr>\n",
       "    <tr>\n",
       "        <td>Usmaan</td>\n",
       "        <td>Ridley</td>\n",
       "        <td>08</td>\n",
       "    </tr>\n",
       "    <tr>\n",
       "        <td>Kerys</td>\n",
       "        <td>Maynard</td>\n",
       "        <td>09</td>\n",
       "    </tr>\n",
       "    <tr>\n",
       "        <td>Geoffrey</td>\n",
       "        <td>Fountain</td>\n",
       "        <td>10</td>\n",
       "    </tr>\n",
       "    <tr>\n",
       "        <td>Ioan</td>\n",
       "        <td>Byers</td>\n",
       "        <td>11</td>\n",
       "    </tr>\n",
       "</table>"
      ],
      "text/plain": [
       "[('Tim', 'Ellison', '01'),\n",
       " ('Tim', 'Ellison', '01'),\n",
       " ('Ahsan', 'Mustafa', '02'),\n",
       " ('Hadiya', 'Bradshaw', '03'),\n",
       " ('Sheikh', 'Faulkner', '05'),\n",
       " ('Domonic', 'Edwards', '06'),\n",
       " ('Yasemin', 'Hussain', '07'),\n",
       " ('Usmaan', 'Ridley', '08'),\n",
       " ('Kerys', 'Maynard', '09'),\n",
       " ('Geoffrey', 'Fountain', '10'),\n",
       " ('Ioan', 'Byers', '11')]"
      ]
     },
     "execution_count": 41,
     "metadata": {},
     "output_type": "execute_result"
    }
   ],
   "source": [
    "#listing everything from table student\n",
    "%sql SELECT * from STUDENT;"
   ]
  },
  {
   "cell_type": "code",
   "execution_count": 42,
   "metadata": {},
   "outputs": [
    {
     "name": "stdout",
     "output_type": "stream",
     "text": [
      " * sqlite://\n",
      "1 rows affected.\n",
      " * sqlite://\n",
      "1 rows affected.\n",
      " * sqlite://\n",
      "1 rows affected.\n",
      " * sqlite://\n",
      "1 rows affected.\n",
      " * sqlite://\n",
      "1 rows affected.\n",
      " * sqlite://\n",
      "1 rows affected.\n",
      " * sqlite://\n",
      "1 rows affected.\n"
     ]
    },
    {
     "data": {
      "text/plain": [
       "[]"
      ]
     },
     "execution_count": 42,
     "metadata": {},
     "output_type": "execute_result"
    }
   ],
   "source": [
    "#updated the existing student ID to new student ID\n",
    "%sql UPDATE STUDENT SET StudentID='04' WHERE StudentID='05' \n",
    "%sql UPDATE STUDENT SET StudentID='05' WHERE StudentID='06' \n",
    "%sql UPDATE STUDENT SET StudentID='06' WHERE StudentID='07' \n",
    "%sql UPDATE STUDENT SET StudentID='07' WHERE StudentID='08' \n",
    "%sql UPDATE STUDENT SET StudentID='08' WHERE StudentID='09' \n",
    "%sql UPDATE STUDENT SET StudentID='09' WHERE StudentID='10' \n",
    "%sql UPDATE STUDENT SET StudentID='10' WHERE StudentID='11' \n"
   ]
  },
  {
   "cell_type": "code",
   "execution_count": 43,
   "metadata": {},
   "outputs": [
    {
     "name": "stdout",
     "output_type": "stream",
     "text": [
      " * sqlite://\n",
      "Done.\n"
     ]
    },
    {
     "data": {
      "text/html": [
       "<table>\n",
       "    <tr>\n",
       "        <th>firstname</th>\n",
       "        <th>lastname</th>\n",
       "        <th>StudentID</th>\n",
       "    </tr>\n",
       "    <tr>\n",
       "        <td>Tim</td>\n",
       "        <td>Ellison</td>\n",
       "        <td>01</td>\n",
       "    </tr>\n",
       "    <tr>\n",
       "        <td>Tim</td>\n",
       "        <td>Ellison</td>\n",
       "        <td>01</td>\n",
       "    </tr>\n",
       "    <tr>\n",
       "        <td>Ahsan</td>\n",
       "        <td>Mustafa</td>\n",
       "        <td>02</td>\n",
       "    </tr>\n",
       "    <tr>\n",
       "        <td>Hadiya</td>\n",
       "        <td>Bradshaw</td>\n",
       "        <td>03</td>\n",
       "    </tr>\n",
       "    <tr>\n",
       "        <td>Sheikh</td>\n",
       "        <td>Faulkner</td>\n",
       "        <td>04</td>\n",
       "    </tr>\n",
       "    <tr>\n",
       "        <td>Domonic</td>\n",
       "        <td>Edwards</td>\n",
       "        <td>05</td>\n",
       "    </tr>\n",
       "    <tr>\n",
       "        <td>Yasemin</td>\n",
       "        <td>Hussain</td>\n",
       "        <td>06</td>\n",
       "    </tr>\n",
       "    <tr>\n",
       "        <td>Usmaan</td>\n",
       "        <td>Ridley</td>\n",
       "        <td>07</td>\n",
       "    </tr>\n",
       "    <tr>\n",
       "        <td>Kerys</td>\n",
       "        <td>Maynard</td>\n",
       "        <td>08</td>\n",
       "    </tr>\n",
       "    <tr>\n",
       "        <td>Geoffrey</td>\n",
       "        <td>Fountain</td>\n",
       "        <td>09</td>\n",
       "    </tr>\n",
       "    <tr>\n",
       "        <td>Ioan</td>\n",
       "        <td>Byers</td>\n",
       "        <td>10</td>\n",
       "    </tr>\n",
       "</table>"
      ],
      "text/plain": [
       "[('Tim', 'Ellison', '01'),\n",
       " ('Tim', 'Ellison', '01'),\n",
       " ('Ahsan', 'Mustafa', '02'),\n",
       " ('Hadiya', 'Bradshaw', '03'),\n",
       " ('Sheikh', 'Faulkner', '04'),\n",
       " ('Domonic', 'Edwards', '05'),\n",
       " ('Yasemin', 'Hussain', '06'),\n",
       " ('Usmaan', 'Ridley', '07'),\n",
       " ('Kerys', 'Maynard', '08'),\n",
       " ('Geoffrey', 'Fountain', '09'),\n",
       " ('Ioan', 'Byers', '10')]"
      ]
     },
     "execution_count": 43,
     "metadata": {},
     "output_type": "execute_result"
    }
   ],
   "source": [
    "#listing everything from table student\n",
    "%sql SELECT * from STUDENT;"
   ]
  },
  {
   "cell_type": "code",
   "execution_count": 44,
   "metadata": {},
   "outputs": [
    {
     "name": "stdout",
     "output_type": "stream",
     "text": [
      " * sqlite://\n",
      "Done.\n"
     ]
    },
    {
     "data": {
      "text/html": [
       "<table>\n",
       "    <tr>\n",
       "        <th>firstname</th>\n",
       "    </tr>\n",
       "    <tr>\n",
       "        <td>Ahsan</td>\n",
       "    </tr>\n",
       "</table>"
      ],
      "text/plain": [
       "[('Ahsan',)]"
      ]
     },
     "execution_count": 44,
     "metadata": {},
     "output_type": "execute_result"
    }
   ],
   "source": [
    "#like command %wildcard is requesting first name that begining with matching letters \n",
    "%sql SELECT firstname from STUDENT WHERE firstname LIKE '_hsan%'; \n"
   ]
  },
  {
   "cell_type": "code",
   "execution_count": 45,
   "metadata": {},
   "outputs": [
    {
     "name": "stdout",
     "output_type": "stream",
     "text": [
      " * sqlite://\n",
      "Done.\n"
     ]
    },
    {
     "data": {
      "text/html": [
       "<table>\n",
       "    <tr>\n",
       "        <th>lastname</th>\n",
       "    </tr>\n",
       "    <tr>\n",
       "        <td>Byers</td>\n",
       "    </tr>\n",
       "</table>"
      ],
      "text/plain": [
       "[('Byers',)]"
      ]
     },
     "execution_count": 45,
     "metadata": {},
     "output_type": "execute_result"
    }
   ],
   "source": [
    "#like command %wildcard is requesting for lastname  that begining with matching letters \n",
    "%sql SELECT lastname from STUDENT WHERE lastname LIKE 'By%'; \n"
   ]
  },
  {
   "cell_type": "code",
   "execution_count": 46,
   "metadata": {},
   "outputs": [
    {
     "name": "stdout",
     "output_type": "stream",
     "text": [
      " * sqlite://\n",
      "Done.\n"
     ]
    },
    {
     "data": {
      "text/html": [
       "<table>\n",
       "    <tr>\n",
       "        <th>firstname</th>\n",
       "        <th>lastname</th>\n",
       "    </tr>\n",
       "    <tr>\n",
       "        <td>Tim</td>\n",
       "        <td>Ellison</td>\n",
       "    </tr>\n",
       "    <tr>\n",
       "        <td>Tim</td>\n",
       "        <td>Ellison</td>\n",
       "    </tr>\n",
       "    <tr>\n",
       "        <td>Ahsan</td>\n",
       "        <td>Mustafa</td>\n",
       "    </tr>\n",
       "    <tr>\n",
       "        <td>Hadiya</td>\n",
       "        <td>Bradshaw</td>\n",
       "    </tr>\n",
       "    <tr>\n",
       "        <td>Sheikh</td>\n",
       "        <td>Faulkner</td>\n",
       "    </tr>\n",
       "    <tr>\n",
       "        <td>Domonic</td>\n",
       "        <td>Edwards</td>\n",
       "    </tr>\n",
       "    <tr>\n",
       "        <td>Yasemin</td>\n",
       "        <td>Hussain</td>\n",
       "    </tr>\n",
       "    <tr>\n",
       "        <td>Usmaan</td>\n",
       "        <td>Ridley</td>\n",
       "    </tr>\n",
       "    <tr>\n",
       "        <td>Kerys</td>\n",
       "        <td>Maynard</td>\n",
       "    </tr>\n",
       "    <tr>\n",
       "        <td>Geoffrey</td>\n",
       "        <td>Fountain</td>\n",
       "    </tr>\n",
       "    <tr>\n",
       "        <td>Ioan</td>\n",
       "        <td>Byers</td>\n",
       "    </tr>\n",
       "</table>"
      ],
      "text/plain": [
       "[('Tim', 'Ellison'),\n",
       " ('Tim', 'Ellison'),\n",
       " ('Ahsan', 'Mustafa'),\n",
       " ('Hadiya', 'Bradshaw'),\n",
       " ('Sheikh', 'Faulkner'),\n",
       " ('Domonic', 'Edwards'),\n",
       " ('Yasemin', 'Hussain'),\n",
       " ('Usmaan', 'Ridley'),\n",
       " ('Kerys', 'Maynard'),\n",
       " ('Geoffrey', 'Fountain'),\n",
       " ('Ioan', 'Byers')]"
      ]
     },
     "execution_count": 46,
     "metadata": {},
     "output_type": "execute_result"
    }
   ],
   "source": [
    "#selecting first name and last name from table student\n",
    "%sql SELECT firstname, lastname from STUDENT"
   ]
  },
  {
   "cell_type": "code",
   "execution_count": 47,
   "metadata": {},
   "outputs": [
    {
     "name": "stdout",
     "output_type": "stream",
     "text": [
      " * sqlite://\n",
      "Done.\n"
     ]
    },
    {
     "data": {
      "text/plain": [
       "[]"
      ]
     },
     "execution_count": 47,
     "metadata": {},
     "output_type": "execute_result"
    }
   ],
   "source": [
    "# altering the table student, adding birthdate month \n",
    "%sql ALTER TABLE STUDENT ADD birthdateMonth varchar(50); "
   ]
  },
  {
   "cell_type": "code",
   "execution_count": 48,
   "metadata": {},
   "outputs": [
    {
     "name": "stdout",
     "output_type": "stream",
     "text": [
      " * sqlite://\n",
      "Done.\n"
     ]
    },
    {
     "data": {
      "text/html": [
       "<table>\n",
       "    <tr>\n",
       "        <th>firstname</th>\n",
       "        <th>lastname</th>\n",
       "        <th>StudentID</th>\n",
       "        <th>birthdateMonth</th>\n",
       "    </tr>\n",
       "    <tr>\n",
       "        <td>Tim</td>\n",
       "        <td>Ellison</td>\n",
       "        <td>01</td>\n",
       "        <td>None</td>\n",
       "    </tr>\n",
       "    <tr>\n",
       "        <td>Tim</td>\n",
       "        <td>Ellison</td>\n",
       "        <td>01</td>\n",
       "        <td>None</td>\n",
       "    </tr>\n",
       "    <tr>\n",
       "        <td>Ahsan</td>\n",
       "        <td>Mustafa</td>\n",
       "        <td>02</td>\n",
       "        <td>None</td>\n",
       "    </tr>\n",
       "    <tr>\n",
       "        <td>Hadiya</td>\n",
       "        <td>Bradshaw</td>\n",
       "        <td>03</td>\n",
       "        <td>None</td>\n",
       "    </tr>\n",
       "    <tr>\n",
       "        <td>Sheikh</td>\n",
       "        <td>Faulkner</td>\n",
       "        <td>04</td>\n",
       "        <td>None</td>\n",
       "    </tr>\n",
       "    <tr>\n",
       "        <td>Domonic</td>\n",
       "        <td>Edwards</td>\n",
       "        <td>05</td>\n",
       "        <td>None</td>\n",
       "    </tr>\n",
       "    <tr>\n",
       "        <td>Yasemin</td>\n",
       "        <td>Hussain</td>\n",
       "        <td>06</td>\n",
       "        <td>None</td>\n",
       "    </tr>\n",
       "    <tr>\n",
       "        <td>Usmaan</td>\n",
       "        <td>Ridley</td>\n",
       "        <td>07</td>\n",
       "        <td>None</td>\n",
       "    </tr>\n",
       "    <tr>\n",
       "        <td>Kerys</td>\n",
       "        <td>Maynard</td>\n",
       "        <td>08</td>\n",
       "        <td>None</td>\n",
       "    </tr>\n",
       "    <tr>\n",
       "        <td>Geoffrey</td>\n",
       "        <td>Fountain</td>\n",
       "        <td>09</td>\n",
       "        <td>None</td>\n",
       "    </tr>\n",
       "    <tr>\n",
       "        <td>Ioan</td>\n",
       "        <td>Byers</td>\n",
       "        <td>10</td>\n",
       "        <td>None</td>\n",
       "    </tr>\n",
       "</table>"
      ],
      "text/plain": [
       "[('Tim', 'Ellison', '01', None),\n",
       " ('Tim', 'Ellison', '01', None),\n",
       " ('Ahsan', 'Mustafa', '02', None),\n",
       " ('Hadiya', 'Bradshaw', '03', None),\n",
       " ('Sheikh', 'Faulkner', '04', None),\n",
       " ('Domonic', 'Edwards', '05', None),\n",
       " ('Yasemin', 'Hussain', '06', None),\n",
       " ('Usmaan', 'Ridley', '07', None),\n",
       " ('Kerys', 'Maynard', '08', None),\n",
       " ('Geoffrey', 'Fountain', '09', None),\n",
       " ('Ioan', 'Byers', '10', None)]"
      ]
     },
     "execution_count": 48,
     "metadata": {},
     "output_type": "execute_result"
    }
   ],
   "source": [
    "#showing all data from student table \n",
    "%sql SELECT * from STUDENT; "
   ]
  },
  {
   "cell_type": "code",
   "execution_count": 50,
   "metadata": {},
   "outputs": [
    {
     "name": "stdout",
     "output_type": "stream",
     "text": [
      " * sqlite://\n",
      "2 rows affected.\n",
      " * sqlite://\n",
      "1 rows affected.\n",
      " * sqlite://\n",
      "1 rows affected.\n",
      " * sqlite://\n",
      "1 rows affected.\n",
      " * sqlite://\n",
      "1 rows affected.\n",
      " * sqlite://\n",
      "1 rows affected.\n",
      " * sqlite://\n",
      "1 rows affected.\n",
      " * sqlite://\n",
      "1 rows affected.\n",
      " * sqlite://\n",
      "1 rows affected.\n",
      " * sqlite://\n",
      "1 rows affected.\n"
     ]
    },
    {
     "data": {
      "text/plain": [
       "[]"
      ]
     },
     "execution_count": 50,
     "metadata": {},
     "output_type": "execute_result"
    }
   ],
   "source": [
    "#adding values in the newly created column birthdate month \n",
    "%sql UPDATE STUDENT SET birthdateMonth='January' WHERE StudentID='01'\n",
    "%sql UPDATE STUDENT SET birthdateMonth='February' WHERE StudentID='02'\n",
    "%sql UPDATE STUDENT SET birthdateMonth='March' WHERE StudentID='03'\n",
    "%sql UPDATE STUDENT SET birthdateMonth='April' WHERE StudentID='04'\n",
    "%sql UPDATE STUDENT SET birthdateMonth='May' WHERE StudentID='05'\n",
    "%sql UPDATE STUDENT SET birthdateMonth='June' WHERE StudentID='06'\n",
    "%sql UPDATE STUDENT SET birthdateMonth='July' WHERE StudentID='07'\n",
    "%sql UPDATE STUDENT SET birthdateMonth='August' WHERE StudentID='08'\n",
    "%sql UPDATE STUDENT SET birthdateMonth='September' WHERE StudentID='09'\n",
    "%sql UPDATE STUDENT SET birthdateMonth='October' WHERE StudentID='10'\n",
    "\n"
   ]
  },
  {
   "cell_type": "code",
   "execution_count": 51,
   "metadata": {},
   "outputs": [
    {
     "name": "stdout",
     "output_type": "stream",
     "text": [
      " * sqlite://\n",
      "Done.\n"
     ]
    },
    {
     "data": {
      "text/html": [
       "<table>\n",
       "    <tr>\n",
       "        <th>firstname</th>\n",
       "        <th>lastname</th>\n",
       "        <th>StudentID</th>\n",
       "        <th>birthdateMonth</th>\n",
       "    </tr>\n",
       "    <tr>\n",
       "        <td>Tim</td>\n",
       "        <td>Ellison</td>\n",
       "        <td>01</td>\n",
       "        <td>January</td>\n",
       "    </tr>\n",
       "    <tr>\n",
       "        <td>Tim</td>\n",
       "        <td>Ellison</td>\n",
       "        <td>01</td>\n",
       "        <td>January</td>\n",
       "    </tr>\n",
       "    <tr>\n",
       "        <td>Ahsan</td>\n",
       "        <td>Mustafa</td>\n",
       "        <td>02</td>\n",
       "        <td>February</td>\n",
       "    </tr>\n",
       "    <tr>\n",
       "        <td>Hadiya</td>\n",
       "        <td>Bradshaw</td>\n",
       "        <td>03</td>\n",
       "        <td>March</td>\n",
       "    </tr>\n",
       "    <tr>\n",
       "        <td>Sheikh</td>\n",
       "        <td>Faulkner</td>\n",
       "        <td>04</td>\n",
       "        <td>April</td>\n",
       "    </tr>\n",
       "    <tr>\n",
       "        <td>Domonic</td>\n",
       "        <td>Edwards</td>\n",
       "        <td>05</td>\n",
       "        <td>May</td>\n",
       "    </tr>\n",
       "    <tr>\n",
       "        <td>Yasemin</td>\n",
       "        <td>Hussain</td>\n",
       "        <td>06</td>\n",
       "        <td>June</td>\n",
       "    </tr>\n",
       "    <tr>\n",
       "        <td>Usmaan</td>\n",
       "        <td>Ridley</td>\n",
       "        <td>07</td>\n",
       "        <td>July</td>\n",
       "    </tr>\n",
       "    <tr>\n",
       "        <td>Kerys</td>\n",
       "        <td>Maynard</td>\n",
       "        <td>08</td>\n",
       "        <td>August</td>\n",
       "    </tr>\n",
       "    <tr>\n",
       "        <td>Geoffrey</td>\n",
       "        <td>Fountain</td>\n",
       "        <td>09</td>\n",
       "        <td>September</td>\n",
       "    </tr>\n",
       "    <tr>\n",
       "        <td>Ioan</td>\n",
       "        <td>Byers</td>\n",
       "        <td>10</td>\n",
       "        <td>October</td>\n",
       "    </tr>\n",
       "</table>"
      ],
      "text/plain": [
       "[('Tim', 'Ellison', '01', 'January'),\n",
       " ('Tim', 'Ellison', '01', 'January'),\n",
       " ('Ahsan', 'Mustafa', '02', 'February'),\n",
       " ('Hadiya', 'Bradshaw', '03', 'March'),\n",
       " ('Sheikh', 'Faulkner', '04', 'April'),\n",
       " ('Domonic', 'Edwards', '05', 'May'),\n",
       " ('Yasemin', 'Hussain', '06', 'June'),\n",
       " ('Usmaan', 'Ridley', '07', 'July'),\n",
       " ('Kerys', 'Maynard', '08', 'August'),\n",
       " ('Geoffrey', 'Fountain', '09', 'September'),\n",
       " ('Ioan', 'Byers', '10', 'October')]"
      ]
     },
     "execution_count": 51,
     "metadata": {},
     "output_type": "execute_result"
    }
   ],
   "source": [
    "#showing all data from student table \n",
    "%sql SELECT * from STUDENT; "
   ]
  },
  {
   "cell_type": "code",
   "execution_count": 84,
   "metadata": {},
   "outputs": [
    {
     "name": "stdout",
     "output_type": "stream",
     "text": [
      " * sqlite://\n",
      "Done.\n"
     ]
    },
    {
     "data": {
      "text/plain": [
       "[]"
      ]
     },
     "execution_count": 84,
     "metadata": {},
     "output_type": "execute_result"
    }
   ],
   "source": [
    "#dropping the entire student table \n",
    "%sql DROP TABLE STUDENTS"
   ]
  },
  {
   "cell_type": "code",
   "execution_count": 53,
   "metadata": {},
   "outputs": [
    {
     "name": "stdout",
     "output_type": "stream",
     "text": [
      " * sqlite://\n",
      "(sqlite3.OperationalError) no such table: STUDENT\n",
      "[SQL: SELECT * from STUDENT;]\n",
      "(Background on this error at: http://sqlalche.me/e/13/e3q8)\n"
     ]
    }
   ],
   "source": [
    "#showing all data from student table \n",
    "%sql SELECT * from STUDENT; "
   ]
  },
  {
   "cell_type": "code",
   "execution_count": 54,
   "metadata": {},
   "outputs": [
    {
     "name": "stdout",
     "output_type": "stream",
     "text": [
      "The sql extension is already loaded. To reload it, use:\n",
      "  %reload_ext sql\n"
     ]
    }
   ],
   "source": [
    "#Starting SQL\n",
    "%load_ext sql\n",
    "#command to commence coding \n",
    "%sql sqlite:// \n",
    "#Import Library to create visualization \n",
    "import  matplotlib.pyplot as plt\n",
    "%matplotlib inline "
   ]
  },
  {
   "cell_type": "code",
   "execution_count": 85,
   "metadata": {},
   "outputs": [
    {
     "name": "stdout",
     "output_type": "stream",
     "text": [
      " * sqlite://\n",
      "Done.\n",
      " * sqlite://\n",
      "1 rows affected.\n",
      " * sqlite://\n",
      "1 rows affected.\n",
      " * sqlite://\n",
      "1 rows affected.\n",
      " * sqlite://\n",
      "1 rows affected.\n",
      " * sqlite://\n",
      "1 rows affected.\n",
      " * sqlite://\n",
      "1 rows affected.\n",
      " * sqlite://\n",
      "1 rows affected.\n",
      " * sqlite://\n",
      "1 rows affected.\n",
      " * sqlite://\n",
      "1 rows affected.\n",
      " * sqlite://\n",
      "1 rows affected.\n"
     ]
    },
    {
     "data": {
      "text/plain": [
       "[]"
      ]
     },
     "execution_count": 85,
     "metadata": {},
     "output_type": "execute_result"
    }
   ],
   "source": [
    "#create student table and inserting values\n",
    "\n",
    "%sql CREATE TABLE STUDENTS(firstname varchar(50),lastname varchar(50),favoriteSubject varchar(50),StudentID); \n",
    "%sql INSERT INTO STUDENTS VALUES('Tim', 'Ellison','Mathematics', '01'); \n",
    "%sql INSERT INTO STUDENTS VALUES('Ahsan', 'Mustafa','Science', '02'); \n",
    "%sql INSERT INTO STUDENTS VALUES('Hadiya', 'Bradshaw','Social Studies', '03'); \n",
    "%sql INSERT INTO STUDENTS VALUES('Kody', 'Mccall','English', '04'); \n",
    "%sql INSERT INTO STUDENTS VALUES('Sheikh', 'Faulkner','English', '05'); \n",
    "%sql INSERT INTO STUDENTS VALUES('Domonic', 'Edwards','Science', '06'); \n",
    "%sql INSERT INTO STUDENTS VALUES('Yasemin', 'Hussain','Mathematics', '07'); \n",
    "%sql INSERT INTO STUDENTS VALUES('Usmaan', 'Ridley','Social Studies', '08'); \n",
    "%sql INSERT INTO STUDENTS VALUES('Kerys', 'Maynard','English', '09'); \n",
    "%sql INSERT INTO STUDENTS VALUES('Geoffrey', 'Fountain','English', '10'); "
   ]
  },
  {
   "cell_type": "code",
   "execution_count": 74,
   "metadata": {},
   "outputs": [
    {
     "name": "stdout",
     "output_type": "stream",
     "text": [
      " * sqlite://\n",
      "Done.\n"
     ]
    },
    {
     "data": {
      "text/html": [
       "<table>\n",
       "    <tr>\n",
       "        <th>firstname</th>\n",
       "        <th>lastname</th>\n",
       "        <th>favoriteSubject</th>\n",
       "        <th>StudentID</th>\n",
       "    </tr>\n",
       "    <tr>\n",
       "        <td>Tim</td>\n",
       "        <td>Ellison</td>\n",
       "        <td>Mathematics</td>\n",
       "        <td>01</td>\n",
       "    </tr>\n",
       "    <tr>\n",
       "        <td>Ahsan</td>\n",
       "        <td>Mustafa</td>\n",
       "        <td>Science</td>\n",
       "        <td>02</td>\n",
       "    </tr>\n",
       "    <tr>\n",
       "        <td>Hadiya</td>\n",
       "        <td>Bradshaw</td>\n",
       "        <td>Social Studies</td>\n",
       "        <td>03</td>\n",
       "    </tr>\n",
       "    <tr>\n",
       "        <td>Kody</td>\n",
       "        <td>Mccall</td>\n",
       "        <td>Science</td>\n",
       "        <td>04</td>\n",
       "    </tr>\n",
       "    <tr>\n",
       "        <td>Sheikh</td>\n",
       "        <td>Faulkner</td>\n",
       "        <td>Mathematics</td>\n",
       "        <td>05</td>\n",
       "    </tr>\n",
       "    <tr>\n",
       "        <td>Domonic</td>\n",
       "        <td>Edwards</td>\n",
       "        <td>Science</td>\n",
       "        <td>06</td>\n",
       "    </tr>\n",
       "    <tr>\n",
       "        <td>Yasemin</td>\n",
       "        <td>Hussain</td>\n",
       "        <td>Mathematics</td>\n",
       "        <td>07</td>\n",
       "    </tr>\n",
       "    <tr>\n",
       "        <td>Usmaan</td>\n",
       "        <td>Ridley</td>\n",
       "        <td>Social Studies</td>\n",
       "        <td>08</td>\n",
       "    </tr>\n",
       "    <tr>\n",
       "        <td>Kerys</td>\n",
       "        <td>Maynard</td>\n",
       "        <td>English</td>\n",
       "        <td>09</td>\n",
       "    </tr>\n",
       "    <tr>\n",
       "        <td>Geoffrey</td>\n",
       "        <td>Fountain</td>\n",
       "        <td>English</td>\n",
       "        <td>10</td>\n",
       "    </tr>\n",
       "</table>"
      ],
      "text/plain": [
       "[('Tim', 'Ellison', 'Mathematics', '01'),\n",
       " ('Ahsan', 'Mustafa', 'Science', '02'),\n",
       " ('Hadiya', 'Bradshaw', 'Social Studies', '03'),\n",
       " ('Kody', 'Mccall', 'Science', '04'),\n",
       " ('Sheikh', 'Faulkner', 'Mathematics', '05'),\n",
       " ('Domonic', 'Edwards', 'Science', '06'),\n",
       " ('Yasemin', 'Hussain', 'Mathematics', '07'),\n",
       " ('Usmaan', 'Ridley', 'Social Studies', '08'),\n",
       " ('Kerys', 'Maynard', 'English', '09'),\n",
       " ('Geoffrey', 'Fountain', 'English', '10')]"
      ]
     },
     "execution_count": 74,
     "metadata": {},
     "output_type": "execute_result"
    }
   ],
   "source": [
    "#showing all data from student table \n",
    "%sql SELECT * from STUDENTS; "
   ]
  },
  {
   "cell_type": "code",
   "execution_count": 86,
   "metadata": {},
   "outputs": [
    {
     "name": "stdout",
     "output_type": "stream",
     "text": [
      " * sqlite://\n",
      "Done.\n"
     ]
    },
    {
     "data": {
      "image/png": "[encoded data removed]",
      "text/plain": [
       "<Figure size 1296x504 with 1 Axes>"
      ]
     },
     "metadata": {
      "needs_background": "light"
     },
     "output_type": "display_data"
    }
   ],
   "source": [
    "#Creating visualization charts using a bar chart on table students with favorite subject desncending    ORDER BY favoriteSubject ASC;\n",
    "plt.figure(figsize=(18,7))\n",
    "chart = %sql SELECT favoriteSubject, COUNT(favoriteSubject) FROM STUDENTS ORDER BY COUNT(favoriteSubject) ASC;\n",
    "chart.bar(); "
   ]
  },
  {
   "cell_type": "code",
   "execution_count": 87,
   "metadata": {},
   "outputs": [
    {
     "name": "stdout",
     "output_type": "stream",
     "text": [
      " * sqlite://\n",
      "Done.\n"
     ]
    },
    {
     "data": {
      "image/png": "[encoded data removed]",
      "text/plain": [
       "<Figure size 1296x504 with 1 Axes>"
      ]
     },
     "metadata": {},
     "output_type": "display_data"
    }
   ],
   "source": [
    "#Creating visualization charts using a Pie chart on table students with favorite subject  desncending \n",
    "plt.figure(figsize=(18,7))\n",
    "chart = %sql SELECT favoriteSubject, COUNT(favoriteSubject) FROM STUDENTS GROUP BY favoriteSubject\n",
    "chart.pie(); "
   ]
  },
  {
   "cell_type": "code",
   "execution_count": 90,
   "metadata": {},
   "outputs": [
    {
     "name": "stdout",
     "output_type": "stream",
     "text": [
      " * sqlite://\n",
      "Done.\n"
     ]
    },
    {
     "data": {
      "image/png": "[encoded data removed]",
      "text/plain": [
       "<Figure size 1296x504 with 1 Axes>"
      ]
     },
     "metadata": {
      "needs_background": "light"
     },
     "output_type": "display_data"
    }
   ],
   "source": [
    "#Creating visualization charts using a bar chart on table students with favorite subject and ascending\n",
    "plt.figure(figsize=(18,7))\n",
    "chart = %sql SELECT favoriteSubject, COUNT(favoriteSubject) FROM STUDENTS ORDER BY COUNT(favoriteSubject) ASC;\n",
    "chart.bar(color='green'); "
   ]
  },
  {
   "cell_type": "code",
   "execution_count": 91,
   "metadata": {},
   "outputs": [
    {
     "name": "stdout",
     "output_type": "stream",
     "text": [
      "This application is used to convert notebook files (*.ipynb) to various other\n",
      "formats.\n",
      "\n",
      "WARNING: THE COMMANDLINE INTERFACE MAY CHANGE IN FUTURE RELEASES.\n",
      "\n",
      "Options\n",
      "=======\n",
      "The options below are convenience aliases to configurable class-options,\n",
      "as listed in the \"Equivalent to\" description-line of the aliases.\n",
      "To see all configurable class-options for some <cmd>, use:\n",
      "    <cmd> --help-all\n",
      "\n",
      "--debug\n",
      "    set log level to logging.DEBUG (maximize logging output)\n",
      "    Equivalent to: [--Application.log_level=10]\n",
      "--generate-config\n",
      "    generate default config file\n",
      "    Equivalent to: [--JupyterApp.generate_config=True]\n",
      "-y\n",
      "    Answer yes to any questions instead of prompting.\n",
      "    Equivalent to: [--JupyterApp.answer_yes=True]\n",
      "--execute\n",
      "    Execute the notebook prior to export.\n",
      "    Equivalent to: [--ExecutePreprocessor.enabled=True]\n",
      "--allow-errors\n",
      "    Continue notebook execution even if one of the cells throws an error and include the error message in the cell output (the default behaviour is to abort conversion). This flag is only relevant if '--execute' was specified, too.\n",
      "    Equivalent to: [--ExecutePreprocessor.allow_errors=True]\n",
      "--stdin\n",
      "    read a single notebook file from stdin. Write the resulting notebook with default basename 'notebook.*'\n",
      "    Equivalent to: [--NbConvertApp.from_stdin=True]\n",
      "--stdout\n",
      "    Write notebook output to stdout instead of files.\n",
      "    Equivalent to: [--NbConvertApp.writer_class=StdoutWriter]\n",
      "--inplace\n",
      "    Run nbconvert in place, overwriting the existing notebook (only \n",
      "    relevant when converting to notebook format)\n",
      "    Equivalent to: [--NbConvertApp.use_output_suffix=False --NbConvertApp.export_format=notebook --FilesWriter.build_directory=]\n",
      "--clear-output\n",
      "    Clear output of current file and save in place, \n",
      "    overwriting the existing notebook.\n",
      "    Equivalent to: [--NbConvertApp.use_output_suffix=False --NbConvertApp.export_format=notebook --FilesWriter.build_directory= --ClearOutputPreprocessor.enabled=True]\n",
      "--no-prompt\n",
      "    Exclude input and output prompts from converted document.\n",
      "    Equivalent to: [--TemplateExporter.exclude_input_prompt=True --TemplateExporter.exclude_output_prompt=True]\n",
      "--no-input\n",
      "    Exclude input cells and output prompts from converted document. \n",
      "    This mode is ideal for generating code-free reports.\n",
      "    Equivalent to: [--TemplateExporter.exclude_output_prompt=True --TemplateExporter.exclude_input=True]\n",
      "--allow-chromium-download\n",
      "    Whether to allow downloading chromium if no suitable version is found on the system.\n",
      "    Equivalent to: [--WebPDFExporter.allow_chromium_download=True]\n",
      "--log-level=<Enum>\n",
      "    Set the log level by value or name.\n",
      "    Choices: any of [0, 10, 20, 30, 40, 50, 'DEBUG', 'INFO', 'WARN', 'ERROR', 'CRITICAL']\n",
      "    Default: 30\n",
      "    Equivalent to: [--Application.log_level]\n",
      "--config=<Unicode>\n",
      "    Full path of a config file.\n",
      "    Default: ''\n",
      "    Equivalent to: [--JupyterApp.config_file]\n",
      "--to=<Unicode>\n",
      "    The export format to be used, either one of the built-in formats\n",
      "    ['asciidoc', 'custom', 'html', 'latex', 'markdown', 'notebook', 'pdf',\n",
      "    'python', 'rst', 'script', 'slides', 'webpdf'] or a dotted object name that\n",
      "    represents the import path for an `Exporter` class\n",
      "    Default: ''\n",
      "    Equivalent to: [--NbConvertApp.export_format]\n",
      "--template=<Unicode>\n",
      "    Name of the template to use\n",
      "    Default: ''\n",
      "    Equivalent to: [--TemplateExporter.template_name]\n",
      "--template-file=<Unicode>\n"
     ]
    },
    {
     "name": "stderr",
     "output_type": "stream",
     "text": [
      "[NbConvertApp] WARNING | pattern 'Lab2.ipynb' matched no files\n"
     ]
    },
    {
     "name": "stdout",
     "output_type": "stream",
     "text": [
      "    Name of the template file to use\n",
      "    Default: None\n",
      "    Equivalent to: [--TemplateExporter.template_file]\n",
      "--writer=<DottedObjectName>\n",
      "    Writer class used to write the  results of the conversion\n",
      "    Default: 'FilesWriter'\n",
      "    Equivalent to: [--NbConvertApp.writer_class]\n",
      "--post=<DottedOrNone>\n",
      "    PostProcessor class used to write the results of the conversion\n",
      "    Default: ''\n",
      "    Equivalent to: [--NbConvertApp.postprocessor_class]\n",
      "--output=<Unicode>\n",
      "    overwrite base name use for output files. can only be used when converting\n",
      "    one notebook at a time.\n",
      "    Default: ''\n",
      "    Equivalent to: [--NbConvertApp.output_base]\n",
      "--output-dir=<Unicode>\n",
      "    Directory to write output(s) to. Defaults to output to the directory of each\n",
      "    notebook. To recover previous default behaviour (outputting to the current\n",
      "    working directory) use . as the flag value.\n",
      "    Default: ''\n",
      "    Equivalent to: [--FilesWriter.build_directory]\n",
      "--reveal-prefix=<Unicode>\n",
      "    The URL prefix for reveal.js (version 3.x). This defaults to the reveal CDN,\n",
      "    but can be any url pointing to a copy  of reveal.js.\n",
      "    For speaker notes to work, this must be a relative path to a local  copy of\n",
      "    reveal.js: e.g., \"reveal.js\".\n",
      "    If a relative path is given, it must be a subdirectory of the current\n",
      "    directory (from which the server is run).\n",
      "    See the usage documentation\n",
      "    (https://nbconvert.readthedocs.io/en/latest/usage.html#reveal-js-html-\n",
      "    slideshow) for more details.\n",
      "    Default: ''\n",
      "    Equivalent to: [--SlidesExporter.reveal_url_prefix]\n",
      "--nbformat=<Enum>\n",
      "    The nbformat version to write. Use this to downgrade notebooks.\n",
      "    Choices: any of [1, 2, 3, 4]\n",
      "    Default: 4\n",
      "    Equivalent to: [--NotebookExporter.nbformat_version]\n",
      "\n",
      "Examples\n",
      "--------\n",
      "\n",
      "    The simplest way to use nbconvert is\n",
      "    \n",
      "    > jupyter nbconvert mynotebook.ipynb --to html\n",
      "    \n",
      "    Options include ['asciidoc', 'custom', 'html', 'latex', 'markdown', 'notebook', 'pdf', 'python', 'rst', 'script', 'slides', 'webpdf'].\n",
      "    \n",
      "    > jupyter nbconvert --to latex mynotebook.ipynb\n",
      "    \n",
      "    Both HTML and LaTeX support multiple output templates. LaTeX includes\n",
      "    'base', 'article' and 'report'.  HTML includes 'basic' and 'full'. You\n",
      "    can specify the flavor of the format used.\n",
      "    \n",
      "    > jupyter nbconvert --to html --template lab mynotebook.ipynb\n",
      "    \n",
      "    You can also pipe the output to stdout, rather than a file\n",
      "    \n",
      "    > jupyter nbconvert mynotebook.ipynb --stdout\n",
      "    \n",
      "    PDF is generated via latex\n",
      "    \n",
      "    > jupyter nbconvert mynotebook.ipynb --to pdf\n",
      "    \n",
      "    You can get (and serve) a Reveal.js-powered slideshow\n",
      "    \n",
      "    > jupyter nbconvert myslides.ipynb --to slides --post serve\n",
      "    \n",
      "    Multiple notebooks can be given at the command line in a couple of \n",
      "    different ways:\n",
      "    \n",
      "    > jupyter nbconvert notebook*.ipynb\n",
      "    > jupyter nbconvert notebook1.ipynb notebook2.ipynb\n",
      "    \n",
      "    or you can specify the notebooks list in a config file, containing::\n",
      "    \n",
      "        c.NbConvertApp.notebooks = [\"my_notebook.ipynb\"]\n",
      "    \n",
      "    > jupyter nbconvert --config mycfg.py\n",
      "\n",
      "To see all available configurables, use `--help-all`.\n",
      "\n"
     ]
    }
   ],
   "source": [
    "! jupyter nbconvert --to html Lab2.ipynb "
   ]
  },
  {
   "cell_type": "code",
   "execution_count": null,
   "metadata": {},
   "outputs": [],
   "source": []
  }
 ],
 "metadata": {
  "kernelspec": {
   "display_name": "Python 3",
   "language": "python",
   "name": "python3"
  },
  "language_info": {
   "codemirror_mode": {
    "name": "ipython",
    "version": 3
   },
   "file_extension": ".py",
   "mimetype": "text/x-python",
   "name": "python",
   "nbconvert_exporter": "python",
   "pygments_lexer": "ipython3",
   "version": "3.8.5"
  }
 },
 "nbformat": 4,
 "nbformat_minor": 4
}
